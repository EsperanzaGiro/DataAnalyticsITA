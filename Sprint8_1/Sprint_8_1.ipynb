{
 "cells": [
  {
   "cell_type": "code",
   "execution_count": 2,
   "metadata": {},
   "outputs": [
    {
     "name": "stdout",
     "output_type": "stream",
     "text": [
      "Requirement already satisfied: seaborn in c:\\users\\espe\\appdata\\local\\programs\\python\\python312\\lib\\site-packages (0.13.2)Note: you may need to restart the kernel to use updated packages.\n",
      "\n",
      "Requirement already satisfied: numpy!=1.24.0,>=1.20 in c:\\users\\espe\\appdata\\local\\programs\\python\\python312\\lib\\site-packages (from seaborn) (1.26.4)\n",
      "Requirement already satisfied: pandas>=1.2 in c:\\users\\espe\\appdata\\local\\programs\\python\\python312\\lib\\site-packages (from seaborn) (2.2.2)\n",
      "Requirement already satisfied: matplotlib!=3.6.1,>=3.4 in c:\\users\\espe\\appdata\\local\\programs\\python\\python312\\lib\\site-packages (from seaborn) (3.9.2)\n",
      "Requirement already satisfied: contourpy>=1.0.1 in c:\\users\\espe\\appdata\\local\\programs\\python\\python312\\lib\\site-packages (from matplotlib!=3.6.1,>=3.4->seaborn) (1.3.0)\n",
      "Requirement already satisfied: cycler>=0.10 in c:\\users\\espe\\appdata\\local\\programs\\python\\python312\\lib\\site-packages (from matplotlib!=3.6.1,>=3.4->seaborn) (0.12.1)\n",
      "Requirement already satisfied: fonttools>=4.22.0 in c:\\users\\espe\\appdata\\local\\programs\\python\\python312\\lib\\site-packages (from matplotlib!=3.6.1,>=3.4->seaborn) (4.53.1)\n",
      "Requirement already satisfied: kiwisolver>=1.3.1 in c:\\users\\espe\\appdata\\local\\programs\\python\\python312\\lib\\site-packages (from matplotlib!=3.6.1,>=3.4->seaborn) (1.4.7)\n",
      "Requirement already satisfied: packaging>=20.0 in c:\\users\\espe\\appdata\\roaming\\python\\python312\\site-packages (from matplotlib!=3.6.1,>=3.4->seaborn) (23.2)\n",
      "Requirement already satisfied: pillow>=8 in c:\\users\\espe\\appdata\\local\\programs\\python\\python312\\lib\\site-packages (from matplotlib!=3.6.1,>=3.4->seaborn) (10.4.0)\n",
      "Requirement already satisfied: pyparsing>=2.3.1 in c:\\users\\espe\\appdata\\local\\programs\\python\\python312\\lib\\site-packages (from matplotlib!=3.6.1,>=3.4->seaborn) (3.1.4)\n",
      "Requirement already satisfied: python-dateutil>=2.7 in c:\\users\\espe\\appdata\\roaming\\python\\python312\\site-packages (from matplotlib!=3.6.1,>=3.4->seaborn) (2.9.0.post0)\n",
      "Requirement already satisfied: pytz>=2020.1 in c:\\users\\espe\\appdata\\local\\programs\\python\\python312\\lib\\site-packages (from pandas>=1.2->seaborn) (2024.1)\n",
      "Requirement already satisfied: tzdata>=2022.7 in c:\\users\\espe\\appdata\\local\\programs\\python\\python312\\lib\\site-packages (from pandas>=1.2->seaborn) (2024.1)\n",
      "Requirement already satisfied: six>=1.5 in c:\\users\\espe\\appdata\\roaming\\python\\python312\\site-packages (from python-dateutil>=2.7->matplotlib!=3.6.1,>=3.4->seaborn) (1.16.0)\n"
     ]
    },
    {
     "name": "stderr",
     "output_type": "stream",
     "text": [
      "\n",
      "[notice] A new release of pip is available: 24.2 -> 24.3.1\n",
      "[notice] To update, run: python.exe -m pip install --upgrade pip\n"
     ]
    }
   ],
   "source": [
    "# instalo la librería que me falta:\n",
    "%pip install seaborn\n"
   ]
  },
  {
   "cell_type": "code",
   "execution_count": null,
   "metadata": {},
   "outputs": [
    {
     "ename": "ModuleNotFoundError",
     "evalue": "No module named 'sqlalchemy'",
     "output_type": "error",
     "traceback": [
      "\u001b[1;31m---------------------------------------------------------------------------\u001b[0m",
      "\u001b[1;31mModuleNotFoundError\u001b[0m                       Traceback (most recent call last)",
      "Cell \u001b[1;32mIn[4], line 6\u001b[0m\n\u001b[0;32m      4\u001b[0m \u001b[38;5;28;01mimport\u001b[39;00m \u001b[38;5;21;01mmatplotlib\u001b[39;00m\u001b[38;5;21;01m.\u001b[39;00m\u001b[38;5;21;01mpyplot\u001b[39;00m \u001b[38;5;28;01mas\u001b[39;00m \u001b[38;5;21;01mplt\u001b[39;00m\n\u001b[0;32m      5\u001b[0m \u001b[38;5;28;01mimport\u001b[39;00m \u001b[38;5;21;01mseaborn\u001b[39;00m \u001b[38;5;28;01mas\u001b[39;00m \u001b[38;5;21;01msns\u001b[39;00m\n\u001b[1;32m----> 6\u001b[0m \u001b[38;5;28;01mfrom\u001b[39;00m \u001b[38;5;21;01msqlalchemy\u001b[39;00m \u001b[38;5;28;01mimport\u001b[39;00m create_engine\n\u001b[0;32m      8\u001b[0m \u001b[38;5;66;03m# Instalo módulo connector con: \u001b[39;00m\n\u001b[0;32m      9\u001b[0m get_ipython()\u001b[38;5;241m.\u001b[39mrun_line_magic(\u001b[38;5;124m'\u001b[39m\u001b[38;5;124mpip\u001b[39m\u001b[38;5;124m'\u001b[39m, \u001b[38;5;124m'\u001b[39m\u001b[38;5;124minstall mysql-connector-python\u001b[39m\u001b[38;5;124m'\u001b[39m)\n",
      "\u001b[1;31mModuleNotFoundError\u001b[0m: No module named 'sqlalchemy'"
     ]
    }
   ],
   "source": [
    "# Importo las librerías que necesitaré para el sprint\n",
    "import numpy as np\n",
    "import pandas as pd\n",
    "import matplotlib.pyplot as plt\n",
    "import seaborn as sns\n",
    "from sqlalchemy import create_engine\n",
    "\n",
    "# Instalo módulo connector con: \n",
    "%pip install mysql-connector-python\n",
    "\n",
    "# Importo módulo conector: import mysql.connector\n",
    "import mysql.connector\n",
    "\n",
    "# Función para preguntar el nombre de la base de datos a importar:\n",
    "def nombre_bbdd():\n",
    "    bbdd = input(\"Nombre de BBDD: \")\n",
    "    return bbdd\n",
    "\n",
    "# Realizo la conexión:\n",
    "conexion = mysql.connector.connect(user='root', password='SQLespe2010', host='localhost', database = bbdd, port='3306')\n",
    "# Verifico conexión\n",
    "if conexion.is_connected():\n",
    "    print(\"Conexión exitosa a la base de datos\")\n",
    "else:\n",
    "    print(\"Error al conectar\")\n",
    "\n",
    "# Función para importar tablas a pandas en un diccionario de tablas y queries\n",
    "\n",
    "def generar_diccionario_tablas(conexion):\n",
    "    cursor = conexion.cursor()\n",
    "    cursor.execute(\"SHOW TABLES;\") \n",
    "    tablas = cursor.fetchall() \n",
    "    diccionario_tablas = {tabla[0]: f\"SELECT * FROM {tabla[0]}\" for tabla in tablas} # nombre tabla(clave):query(valor)\n",
    "    return diccionario_tablas\n",
    "\n",
    "# creo diccionario para guardar las tablas en dataframes y recorro con bucle para asignar nombres df_nombreTabla:\n",
    "dataframes = {}\n",
    "query_dict = generar_diccionario_tablas(conexion)\n",
    "for tabla, query in query_dict.items():\n",
    "    dataframes[tabla] = pd.read_sql(query, conexion)\n",
    "    print(f\"Tabla '{tabla}' importada con éxito\")"
   ]
  },
  {
   "cell_type": "code",
   "execution_count": 1,
   "metadata": {},
   "outputs": [
    {
     "ename": "NameError",
     "evalue": "name 'pd' is not defined",
     "output_type": "error",
     "traceback": [
      "\u001b[1;31m---------------------------------------------------------------------------\u001b[0m",
      "\u001b[1;31mNameError\u001b[0m                                 Traceback (most recent call last)",
      "Cell \u001b[1;32mIn[1], line 6\u001b[0m\n\u001b[0;32m      1\u001b[0m \u001b[38;5;66;03m# EJERCICIO 1: una variable numèrica.\u001b[39;00m\n\u001b[0;32m      2\u001b[0m \u001b[38;5;66;03m# tabla sales \u001b[39;00m\n\u001b[0;32m      4\u001b[0m query \u001b[38;5;241m=\u001b[39m \u001b[38;5;124m\"\u001b[39m\u001b[38;5;124mSELECT amount FROM sales;\u001b[39m\u001b[38;5;124m\"\u001b[39m\n\u001b[1;32m----> 6\u001b[0m df_sales \u001b[38;5;241m=\u001b[39m \u001b[43mpd\u001b[49m\u001b[38;5;241m.\u001b[39mread_sql(query, conexion)\n\u001b[0;32m      8\u001b[0m \u001b[38;5;66;03m# Gráfico el histograma\u001b[39;00m\n\u001b[0;32m      9\u001b[0m plt\u001b[38;5;241m.\u001b[39mfigure(figsize\u001b[38;5;241m=\u001b[39m(\u001b[38;5;241m8\u001b[39m, \u001b[38;5;241m6\u001b[39m))\n",
      "\u001b[1;31mNameError\u001b[0m: name 'pd' is not defined"
     ]
    }
   ],
   "source": [
    "# EJERCICIO 1: una variable numèrica.\n",
    "# tabla sales \n",
    "\n",
    "query = \"SELECT amount FROM sales;\"\n",
    "\n",
    "df_sales = pd.read_sql(query, conexion)\n",
    "\n",
    "# Gráfico el histograma\n",
    "plt.figure(figsize=(8, 6))\n",
    "sns.histplot(df_sales['amount'], kde=True, bins=20, color='blue')\n",
    "plt.title(\"Distribución importe ventas\")\n",
    "plt.xlabel(\"Importe\")\n",
    "plt.ylabel(\"Frecuencia\")\n",
    "plt.grid(True)\n",
    "plt.show()"
   ]
  },
  {
   "cell_type": "code",
   "execution_count": null,
   "metadata": {},
   "outputs": [],
   "source": [
    "# EJERCICIO 2: Dues variables numèrica.\n",
    "\n",
    "# Tabla = sales\n",
    "# Variable = amount\n",
    "\n",
    "query = \"SELECT amount, quantity FROM sales;\"\n",
    "\n",
    "df_sales = pd.read_sql(query, conexion)\n",
    "\n",
    "\n",
    "# Gráfico: scatter plot\n",
    "plt.figure(figsize=(8, 6))\n",
    "sns.scatterplot(data=df_sales, x='quantity', y='amount', color='green', alpha=0.7)\n",
    "plt.title(\"Relación entre cantidad e importe ventas\")\n",
    "plt.xlabel(\"Cantidad\")\n",
    "plt.ylabel(\"Importe\")\n",
    "plt.grid(True)\n",
    "plt.show()"
   ]
  },
  {
   "cell_type": "code",
   "execution_count": 1,
   "metadata": {},
   "outputs": [
    {
     "ename": "NameError",
     "evalue": "name 'pd' is not defined",
     "output_type": "error",
     "traceback": [
      "\u001b[1;31m---------------------------------------------------------------------------\u001b[0m",
      "\u001b[1;31mNameError\u001b[0m                                 Traceback (most recent call last)",
      "Cell \u001b[1;32mIn[1], line 8\u001b[0m\n\u001b[0;32m      1\u001b[0m \u001b[38;5;66;03m# Ejercicio 3: Una variable categórica\u001b[39;00m\n\u001b[0;32m      2\u001b[0m \n\u001b[0;32m      3\u001b[0m \u001b[38;5;66;03m# Tabla: products\u001b[39;00m\n\u001b[0;32m      4\u001b[0m \u001b[38;5;66;03m# Variable: category\u001b[39;00m\n\u001b[0;32m      5\u001b[0m \n\u001b[0;32m      6\u001b[0m \u001b[38;5;66;03m# Importo la tabla en pandas\u001b[39;00m\n\u001b[0;32m      7\u001b[0m query \u001b[38;5;241m=\u001b[39m \u001b[38;5;124m\"\u001b[39m\u001b[38;5;124mSELECT category FROM products;\u001b[39m\u001b[38;5;124m\"\u001b[39m\n\u001b[1;32m----> 8\u001b[0m df_products \u001b[38;5;241m=\u001b[39m \u001b[43mpd\u001b[49m\u001b[38;5;241m.\u001b[39mread_sql(query, conexion)\n\u001b[0;32m     10\u001b[0m \u001b[38;5;66;03m# Creo variable para contar la frecuencia por categoría\u001b[39;00m\n\u001b[0;32m     11\u001b[0m contar_categoria \u001b[38;5;241m=\u001b[39m df_products[\u001b[38;5;124m'\u001b[39m\u001b[38;5;124mcategory\u001b[39m\u001b[38;5;124m'\u001b[39m]\u001b[38;5;241m.\u001b[39mvalue_counts()\n",
      "\u001b[1;31mNameError\u001b[0m: name 'pd' is not defined"
     ]
    }
   ],
   "source": [
    "# Ejercicio 3: Una variable categórica\n",
    "\n",
    "# Tabla: products\n",
    "# Variable: category\n",
    "\n",
    "# Importo la tabla en pandas\n",
    "query = \"SELECT category FROM products;\"\n",
    "df_products = pd.read_sql(query, conexion)\n",
    "\n",
    "# Creo variable para contar la frecuencia por categoría\n",
    "contar_categoria = df_products['category'].value_counts()\n",
    "\n",
    "# Gráfico: bar plot: muestra la frecuencia de cada categoría\n",
    "plt.figure(figsize=(8, 6))\n",
    "sns.barplot(x=contar_categoria.index, y=contar_categoria.values, palette='viridis')\n",
    "plt.title(\"Frecuencia de categorías de productos\")\n",
    "plt.xlabel(\"Categoría\")\n",
    "plt.ylabel(\"Frecuencia\")\n",
    "plt.xticks(rotation=90)\n",
    "plt.grid(True)\n",
    "plt.show()"
   ]
  },
  {
   "cell_type": "code",
   "execution_count": null,
   "metadata": {},
   "outputs": [],
   "source": [
    "# EJERCICIO 4: Una variable categòrica i una numèrica.\n",
    "\n",
    "# Gráfico: boxplot \n",
    "plt.figure(figsize=(8, 6))\n",
    "sns.boxplot(data=df_sales_products, x='category', y='amount', palette='coolwarm')\n",
    "plt.title(\"Distribución de importe por categoría\")\n",
    "plt.xlabel(\"Categoría\")\n",
    "plt.ylabel(\"Importe\")\n",
    "plt.xticks(rotation=45)\n",
    "plt.grid(True)\n",
    "plt.show()"
   ]
  },
  {
   "cell_type": "code",
   "execution_count": null,
   "metadata": {},
   "outputs": [],
   "source": [
    "# EJERCICIO 5: Dues variables categòriques\n",
    "\n",
    "# Tabla: sales\n",
    "# Variables: category y region\n",
    "\n",
    "# Necesito la tabla de frecuencias previa\n",
    "freq_table = pd.crosstab(df_sales_products['category'], df_sales_products['region'])\n",
    "\n",
    "# Gráfico: heatmap\n",
    "plt.figure(figsize=(8, 6))\n",
    "sns.heatmap(freq_table, annot=True, fmt=\"d\", cmap='YlGnBu')\n",
    "plt.title(\"Frecuencia conjunta entre categorías y regiones\")\n",
    "plt.xlabel(\"Región\")\n",
    "plt.ylabel(\"Categoría\")\n",
    "plt.show()"
   ]
  },
  {
   "cell_type": "code",
   "execution_count": null,
   "metadata": {},
   "outputs": [],
   "source": [
    "# EJERCICIO 6: Tres variables.\n",
    "\n",
    "# Tabla: sales\n",
    "# Variables: amount, region, quantity\n",
    "\n",
    "\n",
    "# Asigno colores y tamaños\n",
    "region_sizes = df_sales['region'].value_counts()\n",
    "\n",
    "# Graficar bubble chart\n",
    "plt.figure(figsize=(10, 7))\n",
    "sns.scatterplot(data=df_sales, x='quantity', y='amount', size='region', hue='region', sizes=(50, 500), palette='Set2')\n",
    "plt.title(\"Relación entre cantidad-importe con regiones\")\n",
    "plt.xlabel(\"Cantidad\")\n",
    "plt.ylabel(\"Importe\")\n",
    "plt.legend(title=\"Región\")\n",
    "plt.grid(True)\n",
    "plt.show()"
   ]
  },
  {
   "cell_type": "code",
   "execution_count": null,
   "metadata": {},
   "outputs": [],
   "source": [
    "# EJERCICIO 7: Graficar un Pairplot.\n",
    "\n",
    "#Tabla: sales.\n",
    "#Variables: todas las numéricas (amount, quantity)\n",
    "\n",
    "# Gráfico: pairplot\n",
    "sns.pairplot(df_sales, diag_kind='kde', palette='husl')\n",
    "plt.suptitle(\"Relaciones y distribuciones entre variables numéricas\", y=1.03)\n",
    "plt.show()"
   ]
  },
  {
   "cell_type": "code",
   "execution_count": null,
   "metadata": {},
   "outputs": [],
   "source": [
    "conexion.commit()\n",
    "conexion.close()"
   ]
  }
 ],
 "metadata": {
  "kernelspec": {
   "display_name": "Python 3",
   "language": "python",
   "name": "python3"
  },
  "language_info": {
   "codemirror_mode": {
    "name": "ipython",
    "version": 3
   },
   "file_extension": ".py",
   "mimetype": "text/x-python",
   "name": "python",
   "nbconvert_exporter": "python",
   "pygments_lexer": "ipython3",
   "version": "3.12.2"
  }
 },
 "nbformat": 4,
 "nbformat_minor": 2
}
