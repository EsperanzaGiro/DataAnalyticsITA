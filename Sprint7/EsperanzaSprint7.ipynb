{
 "cells": [
  {
   "cell_type": "markdown",
   "metadata": {},
   "source": [
    "EJERCICIO 1_\n",
    "Escriu una funció que calculi l'IMC ingressat per l'usuari/ària, és a dir, qui ho executi haurà d'ingressar aquestes dades. Pots obtenir més informació del seu càlcul en:\n",
    "La funció ha de classificar el resultat en les seves respectives categories"
   ]
  },
  {
   "cell_type": "code",
   "execution_count": null,
   "metadata": {},
   "outputs": [
    {
     "name": "stdout",
     "output_type": "stream",
     "text": [
      "Tu IMC es: 22.31\n",
      "Tu categoría es: peso normal\n"
     ]
    }
   ],
   "source": [
    "\n",
    "# Para calcular el imc, tenemos que pedir los valores de peso y altura y expresarlos en decimales:\n",
    "peso = float(input(\"Introduce el peso en kg: \"))\n",
    "altura = float(input(\"Introduce la altura en metros: \"))\n",
    "\n",
    "\n",
    "# Defino la función 'cálculo'\n",
    "def calculo_imc(peso, altura):\n",
    "    calculo_imc = peso / (altura ** 2)\n",
    "    return calculo_imc\n",
    "\n",
    "# Defino función clasificación para que una vez tenga el cálculo me indique en cuál de los niveles está,\n",
    "def clasificacion_imc(imc):\n",
    "    if imc < 18.5:\n",
    "        return \"bajo peso\"\n",
    "    elif 18.5 <= imc < 24.9:\n",
    "        return \"peso normal\"\n",
    "    elif 25 <= imc < 29.9:\n",
    "        return \"sobrepeso\"\n",
    "    else:\n",
    "        return \"obesidad\"\n",
    "\n",
    "# ejecuto función 'calculo':\n",
    "imc = calculo_imc(peso, altura)\n",
    "\n",
    "# ejecuto la función 'clasificacion'\n",
    "categoria = clasificacion_imc(imc)\n",
    "\n",
    "# Muestro los resultados llamando a las variables que he definodo (imc / categoria)\n",
    "# Imprimo con f-string: para incluir una veriable (entre {}) directamente en una cadena de texto\n",
    "print(f\"Tu IMC es: {imc:.2f}\") # :.2f indica el formato que quiero para la variable (2 decimales)\n",
    "print(f\"Tu categoría es: {categoria}\")\n",
    "\n",
    "# opción básica concatenar:\n",
    "# print(\"Tu imc es: \" + str(round(imc, 2)))  # tengo que convertir en string el float para poder concatenarlo\n",
    "# print(\"Por lo tanto, tu clasificación actual es de: \" + categoria) # aquí concatenamos directamente porque ambas son texto."
   ]
  },
  {
   "cell_type": "markdown",
   "metadata": {},
   "source": [
    "EJERCICIO 2:\n",
    "Convertidor de temperatures.\n",
    "Existeixen diverses unitats de temperatura utilitzades en diferents contextos i regions. Les més comunes són Celsius (°C), Fahrenheit (°F) i Kelvin (K). També existeixen altres unitats com Rankine (°Ra) i Réaumur (°Re). Selecciona almenys 2 conversors, de tal manera que en introduir una temperatura retorni, com a mínim, dues conversions."
   ]
  },
  {
   "cell_type": "code",
   "execution_count": 49,
   "metadata": {},
   "outputs": [
    {
     "name": "stdout",
     "output_type": "stream",
     "text": [
      "Escala Celsius = 1\n",
      "Escala Farenheit = 2\n",
      "Escala Kelvin = 3\n",
      "La temperatura facilitada de 23.00º Celsius equivale a 73.40º Farenheit y a 296.15º Kelvin\n"
     ]
    }
   ],
   "source": [
    "# creo una lista con las escalas\n",
    "lista_escalas = ['Celsius','Farenheit','Kelvin']\n",
    "lista_codigos = [1,2,3]\n",
    "\n",
    "#Muestra las opciones de escalas de temperatura para introducir con un input\n",
    "print('Escala Celsius = 1')\n",
    "print('Escala Farenheit = 2')\n",
    "print('Escala Kelvin = 3')\n",
    "\n",
    "# Pedimos la tempetatura de partida en formato decimal y el código de la escala \n",
    "# a la que corresponde según listado mostrado en pantalla\n",
    "temperatura = float(input(\"Introduce la temperatura: \")) # en este caso float porque admitiría decimales\n",
    "escala = int(input('¿A qué escala corresponde tu dato? Ver listado opciones (1-3)')) # en este caso será un entero\n",
    "\n",
    "# Verifico que el número facilitado por el usuario sea correcto (entre 1 y 3)\n",
    "while escala not in lista_codigos:\n",
    "    print('Código no existente')\n",
    "    escala = int(input('Introduce de nuevo el código. Ver lista (1-3)'))\n",
    "\n",
    "# Defino la función que relaciona los código de escala con su nombre:\n",
    "def correspondencia_escala(escala):\n",
    "    if escala == 1:\n",
    "        return lista_escalas[0]\n",
    "    elif escala == 2:\n",
    "        return lista_escalas[1]\n",
    "    elif escala == 3:\n",
    "        return lista_escalas[2]\n",
    "\n",
    "\n",
    "# Defino las funciones de conversión para cada escala\n",
    "def conversion_celsius(temperatura):\n",
    "    celsius_farenheit = (9/5)*temperatura + 32\n",
    "    celsius_kelvin = temperatura + 273.15\n",
    "    return celsius_farenheit, celsius_kelvin\n",
    "\n",
    "def conversion_farenheit(temperatura):\n",
    "    farenheit_celsius = (5/9) * (temperatura - 32)\n",
    "    farenheit_kelvin = farenheit_celsius + 273.15\n",
    "    return farenheit_celsius, farenheit_kelvin\n",
    "\n",
    "def conversion_kelvin(temperatura):\n",
    "    kelvin_celsius = temperatura - 273.15\n",
    "    kelvin_farenheit = (9/5) * kelvin_celsius + 32\n",
    "    return kelvin_celsius, kelvin_farenheit\n",
    "\n",
    "\n",
    "# creo las variables a mostrar para cada una de las escalas:\n",
    "if escala == 1:\n",
    "    escala_nombre = correspondencia_escala(escala)\n",
    "    temp_f, temp_k = conversion_celsius(temperatura)\n",
    "    print(f'La temperatura facilitada de {temperatura:.2f}º {escala_nombre} equivale a {temp_f:.2f}º Farenheit y a {temp_k:.2f}º Kelvin')\n",
    "\n",
    "elif escala == 2:\n",
    "    escala_nombre = correspondencia_escala(escala)\n",
    "    temp_c, temp_k = conversion_farenheit(temperatura)\n",
    "    print(f'La temperatura facilitada de {temperatura:.2f}º {escala_nombre} equivale a {temp_c:.2f}º Celsius y a {temp_k:.2f}º Kelvin')\n",
    "\n",
    "elif escala == 3:\n",
    "    escala_nombre = correspondencia_escala(escala)\n",
    "    temp_c, temp_f = conversion_kelvin(temperatura)\n",
    "    print(f'La temperatura facilitada de {temperatura:.2f}º {escala_nombre} equivale a {temp_c:.2f}º Celsius y a {temp_f:.2f}º Farenheit')\n",
    "\n",
    "\n",
    "     \n",
    "\n",
    "        \n"
   ]
  },
  {
   "cell_type": "markdown",
   "metadata": {},
   "source": [
    "EJERCICIO 3:\n",
    "Comptador de paraules d'un text.\n",
    "Escriu una funció que donat un text, mostri les vegades que apareix cada paraula."
   ]
  },
  {
   "cell_type": "markdown",
   "metadata": {},
   "source": [
    "Creo lista de signos para buscar en el bucle for\n",
    "Defino la función para contar palabras:\n",
    "Aplico el método split para convertir la frase una lista de palabras\n",
    "cuento las patlabras de la lista\n"
   ]
  },
  {
   "cell_type": "code",
   "execution_count": 50,
   "metadata": {},
   "outputs": [
    {
     "name": "stdout",
     "output_type": "stream",
     "text": [
      "Frase sin signos de puntuación: Texto de prueba para Hola Adiós FIN\n",
      "La frase contiene 7 palabras\n"
     ]
    }
   ],
   "source": [
    "signos_puntuacion = [\".\", \",\", \"!\", \"?\", \";\", \":\", \"(\", \")\", \"-\"]\n",
    "def contador_palabras(frase):\n",
    "    for signo in signos_puntuacion:\n",
    "        frase = frase.replace(signo, \"\")\n",
    "    \n",
    "    # separamos el texto las diferentes palabras con el método split (crea una lista)\n",
    "    palabras =  frase.split()\n",
    "\n",
    "    # Imprimo la frase sin signos de puntuación\n",
    "    print(\"Frase sin signos de puntuación:\", frase)\n",
    "\n",
    "    # cuento las palabras de la nueva lista con len, que cuenta elemento de una lista:\n",
    "    recuento = len(palabras)\n",
    "    \n",
    "    return recuento # para que la función me devuelva el valor\n",
    "\n",
    "# Muestro el resultado con print. Utilizo concatenación básica.\n",
    "frase = \"Texto de prueba, para, Hola? Adiós!,:; FIN\"\n",
    "print('La frase contiene', contador_palabras(frase), 'palabras')\n",
    "\n"
   ]
  },
  {
   "cell_type": "markdown",
   "metadata": {},
   "source": [
    "EJERCICIO 4:\n",
    "Diccionari invers.\n",
    "\n",
    "Resulta que el client té una enquesta molt antiga que s'emmagatzema en un diccionari i els resultats els necessita al revés, és a dir, intercanviats les claus i els valors. Els valors i claus en el diccionari original són únics; si aquest no és el cas, la funció hauria d'imprimir un missatge d'advertiment."
   ]
  },
  {
   "cell_type": "markdown",
   "metadata": {},
   "source": [
    "Parto de la base de que ese diccionario con la encuesta ya está creado.\n",
    "Defino la función para verificar duplicados\n",
    "Defino función para invertir diccionarios\n",
    "Ejecuto ambas funciones\n",
    "Muestro los resultados"
   ]
  },
  {
   "cell_type": "code",
   "execution_count": null,
   "metadata": {},
   "outputs": [
    {
     "name": "stdout",
     "output_type": "stream",
     "text": [
      "Diccionario original: {'Pregunta 1': 'Respuesta A', 'Pregunta 2': 'Respuesta B', 'Pregunta 3': 'Respuesta C', 'Pregunta 4': 'Respuesta B'}\n",
      "Advertencia: Hay respuestas duplicadas\n",
      "Diccionario invertido: {'Respuesta A': ['Pregunta 1'], 'Respuesta B': ['Pregunta 4'], 'Respuesta C': ['Pregunta 3']}\n"
     ]
    }
   ],
   "source": [
    "\n",
    "# la creo con alguna respuesta repetida (B) para verificar la comprobación\n",
    "# de valores duplicados. Cada campo del diccionario tendrá una clave y un valor.\n",
    "encuesta_original = { \"Pregunta 1\": \"Respuesta A\",\n",
    "                    \"Pregunta 2\": \"Respuesta B\",\n",
    "                    \"Pregunta 3\": \"Respuesta C\",\n",
    "                    \"Pregunta 4\": \"Respuesta B\" }\n",
    "\n",
    "# Imprimo el diccionario\n",
    "print(\"Diccionario original:\", encuesta_original)\n",
    "\n",
    "# defino una función para detectar los duplicados\n",
    "# del enunciado no puedo concluir si en caso de estar duplicado, quieren que se incluya o no en la lista,\n",
    "# por lo que opto por incluirlos igualmente. Pero necesito ir 'marcando' los valores recorridos en un nuevo \n",
    "# conjunto\n",
    "def verificar_duplicados(encuesta_original):\n",
    "    \n",
    "    # Creamos un CONJUNTO vacío para almacenar las respuestas que ya hemos visto para ir comparando \n",
    "    # la siguiente con las que se van añadiendo como 'únicas'porque un conjunto contiene elementos únicos\n",
    "    respuestas_vistas = set()\n",
    "    duplicado_detectado = False # parto de que no hay duplicados\n",
    "    \n",
    "    # Recorremos cada repuesta del diccionario\n",
    "    for respuesta in encuesta_original.values(): # .values recorre los 'valores', no las 'keys'\n",
    "        if respuesta in respuestas_vistas:  # Si  ya ha sido visto, será un duplicado\n",
    "           duplicado_detectado = True\n",
    "        else:\n",
    "            respuestas_vistas.add(respuesta)  # Si no, es 'única' y la añadimos al conjunto respuestas_vistas con .add\n",
    "    \n",
    "    # Si encontramos duplicados, imprimimos el mensaje de adventencia:\n",
    "    if duplicado_detectado: # == True: como es una variable booleana, no hace falta indicarlo\n",
    "        print(\"Advertencia: Hay respuestas duplicadas\")\n",
    "    \n",
    "    return duplicado_detectado  # Indicamos si hubo duplicados o no\n",
    "\n",
    "# Función para invertir el diccionario original tal cuan lo tenemos:\n",
    "def invertir_diccionario(encuesta_original):\n",
    "    diccionario_inverso = {}\n",
    "    \n",
    "    # Recorremos el diccionario original\n",
    "    for pregunta, respuesta in encuesta_original.items():\n",
    "        diccionario_inverso[respuesta] = [pregunta]  # sobreescribe la pregunta duplicada.\n",
    "    return diccionario_inverso   \n",
    "\n",
    "# Verificar duplicados en el diccionario original\n",
    "verificar_duplicados(encuesta_original)\n",
    "\n",
    "# Invertimos el diccionario original: \n",
    "diccionario_inverso = invertir_diccionario(encuesta_original)\n",
    "\n",
    "# Imprimo el diccionario con print\n",
    "print('Diccionario invertido:', diccionario_inverso)\n",
    "\n",
    "# Como en un diccionario no pueden exisitir claves repetidas, si encuentra la respuesta\n",
    "# más de una vez, sobreescribirá el valor tantas veces conmo duplicados encuentre:muestra la última\n",
    "# pregunta con esa respuesta duplicada.\n"
   ]
  },
  {
   "cell_type": "markdown",
   "metadata": {},
   "source": [
    "NIVEL 2"
   ]
  },
  {
   "cell_type": "markdown",
   "metadata": {},
   "source": [
    "EJERCICIO 1:\n",
    "Diccionari invers amb duplicats\n",
    "\n",
    "Continuant amb l'exercici 4 del nivell 1: al client es va oblidar de comentar un detall i resulta que els valors en el diccionari original poden duplicar-se i més, per la qual cosa les claus intercanviades poden tenir duplicats. En aquest cas, en l'exercici anterior imprimies un missatge d'advertiment, ara, els valors del diccionari resultant hauran d'emmagatzemar-se com una llista. Tingues en compte que si és un valor únic no ha de ser una llista."
   ]
  },
  {
   "cell_type": "code",
   "execution_count": null,
   "metadata": {},
   "outputs": [
    {
     "name": "stdout",
     "output_type": "stream",
     "text": [
      "Diccionario original: {'Pregunta 1': 'Respuesta A', 'Pregunta 2': 'Respuesta B', 'Pregunta 3': 'Respuesta C', 'Pregunta 4': 'Respuesta B'}\n",
      "Advertencia: Hay respuestas duplicadas\n",
      "Diccionario invertido: {'Respuesta A': 'Pregunta 1', 'Respuesta B': ['Pregunta 2', 'Pregunta 4'], 'Respuesta C': 'Pregunta 3'}\n"
     ]
    }
   ],
   "source": [
    "# Elimino comentarios del código que no cambia para simplicicar lectura.\n",
    "encuesta_original = { \"Pregunta 1\": \"Respuesta A\",\"Pregunta 2\": \"Respuesta B\",\n",
    "                    \"Pregunta 3\": \"Respuesta C\",\n",
    "                    \"Pregunta 4\": \"Respuesta B\" }\n",
    "\n",
    "# Imprimo el diccionario\n",
    "print(\"Diccionario original:\", encuesta_original)\n",
    "\n",
    "# defino una función para detectar los duplicados\n",
    "def verificar_duplicados(encuesta_original):\n",
    "    respuestas_vistas = set()\n",
    "    duplicado_detectado = False\n",
    "\n",
    "    for respuesta in encuesta_original.values(): # .values recorre los 'valores, no las 'keys'\n",
    "        if respuesta in respuestas_vistas:  # Si  ya ha sido visto, será un duplicado\n",
    "           duplicado_detectado = True\n",
    "        else:\n",
    "            respuestas_vistas.add(respuesta)  # Si no, es 'única' y la añadimos al conjunto respuestas_vistas con .add\n",
    "    \n",
    "    if duplicado_detectado: \n",
    "        print(\"Advertencia: Hay respuestas duplicadas\")\n",
    "    \n",
    "    return duplicado_detectado  \n",
    "\n",
    "# Función para invertir el diccionario:\n",
    "def invertir_diccionario(encuesta_original):\n",
    "    \n",
    "    diccionario_inverso = {}\n",
    "    \n",
    "    for pregunta, respuesta in encuesta_original.items():\n",
    "       if respuesta in diccionario_inverso:  # Si la respuesta ya existe como clave\n",
    "            if isinstance(diccionario_inverso[respuesta],list):  # verifica si la respuesta ya es una lista\n",
    "                diccionario_inverso[respuesta].append(pregunta)  # Añadimos la pregunta a la lista de esa respuesta\n",
    "            else:    \n",
    "                # Si no es una lista, lo convertimos en lista con ambos elementos\n",
    "                    diccionario_inverso[respuesta] = [diccionario_inverso[respuesta], pregunta]\n",
    "       else:\n",
    "            # Si es la primera aparición de la respuesta, se añade tal cual\n",
    "            diccionario_inverso[respuesta] = pregunta\n",
    "    \n",
    "    return diccionario_inverso   \n",
    "\n",
    "# ejecutamos verificar duplicados en el diccionario original\n",
    "verificar_duplicados(encuesta_original)\n",
    "\n",
    "# ejecutamos la inversión del diccionario original: \n",
    "diccionario_inverso = invertir_diccionario(encuesta_original)\n",
    "\n",
    "# Mostramos el diccionario\n",
    "print('Diccionario invertido:', diccionario_inverso)"
   ]
  }
 ],
 "metadata": {
  "kernelspec": {
   "display_name": "Python 3",
   "language": "python",
   "name": "python3"
  },
  "language_info": {
   "codemirror_mode": {
    "name": "ipython",
    "version": 3
   },
   "file_extension": ".py",
   "mimetype": "text/x-python",
   "name": "python",
   "nbconvert_exporter": "python",
   "pygments_lexer": "ipython3",
   "version": "3.12.2"
  }
 },
 "nbformat": 4,
 "nbformat_minor": 2
}
