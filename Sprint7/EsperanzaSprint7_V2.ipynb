{
 "cells": [
  {
   "cell_type": "markdown",
   "metadata": {},
   "source": [
    "EJERCICIO 1_\n",
    "Escriu una funció que calculi l'IMC ingressat per l'usuari/ària, és a dir, qui ho executi haurà d'ingressar aquestes dades. Pots obtenir més informació del seu càlcul en:\n",
    "La funció ha de classificar el resultat en les seves respectives categories"
   ]
  },
  {
   "cell_type": "code",
   "execution_count": 27,
   "metadata": {},
   "outputs": [
    {
     "name": "stdout",
     "output_type": "stream",
     "text": [
      "Tu IMC es: 22.49\n",
      "Tu categoría es: peso normal\n"
     ]
    }
   ],
   "source": [
    "# Busco en internet definir pesos mínimos (neonatos) y máximos (obesidad) en seres humanos (0,20 - 635)\n",
    "# Defino funciones para preguntar y validad el peso, altura,clasificar pesos,y calcular el imc\n",
    "# en caso de introducir decimales con ',' en lugar de con '.' hago replace\n",
    "def input_peso():\n",
    "    peso_input = input(\"Introduce el peso en kg\")\n",
    "    peso_input = peso_input.replace(',', '.')\n",
    "    try:\n",
    "        peso = float(peso_input)\n",
    "        if 0.20 <= peso <= 635:\n",
    "            return peso\n",
    "        else:\n",
    "            print(\"Peso fuera de rango (entre 0.20 y 635)\")\n",
    "            return None\n",
    "    except ValueError:\n",
    "        print(\"Entrada no válida. Por favor, ingresa un número válido para el peso.\")\n",
    "        return None\n",
    "\n",
    "def input_altura():\n",
    "    altura_input = input(\"Introduce la altura en metros\")\n",
    "    altura_input = altura_input.replace(',', '.')\n",
    "    try:\n",
    "        altura = float(altura_input)\n",
    "        if 0.25 <= altura <= 2.72:\n",
    "            return altura\n",
    "        else:\n",
    "            print(\"Altura fuera de rango (entre 0.25 y 2.72). Usar '.' como separador decimal\")\n",
    "            return None\n",
    "    except ValueError:\n",
    "        print(\"Entrada no válida. Por favor, ingresa un número válido para la altura.\")\n",
    "        return None\n",
    "    \n",
    "def calculo_imc(peso, altura):\n",
    "    return peso / (altura ** 2)\n",
    "\n",
    "def clasificacion_imc(imc):\n",
    "    if imc < 18.5:\n",
    "        return \"bajo peso\"\n",
    "    elif imc < 25:\n",
    "        return \"peso normal\"\n",
    "    elif imc < 30:\n",
    "        return \"sobrepeso\"\n",
    "    return \"obesidad\"\n",
    "\n",
    "def main():\n",
    "    try:\n",
    "        peso = input_peso()\n",
    "        altura = input_altura()\n",
    "        imc = calculo_imc(peso, altura)\n",
    "        categoria = clasificacion_imc(imc)\n",
    "        print(f\"Tu IMC es: {imc:.2f}\")\n",
    "        print(f\"Tu categoría es: {categoria}\")\n",
    "    except ValueError as error:\n",
    "        print(error)\n",
    "\n",
    "main()\n"
   ]
  },
  {
   "cell_type": "markdown",
   "metadata": {},
   "source": [
    "EJERCICIO 2:\n",
    "Convertidor de temperatures.\n",
    "Existeixen diverses unitats de temperatura utilitzades en diferents contextos i regions. Les més comunes són Celsius (°C), Fahrenheit (°F) i Kelvin (K). També existeixen altres unitats com Rankine (°Ra) i Réaumur (°Re). Selecciona almenys 2 conversors, de tal manera que en introduir una temperatura retorni, com a mínim, dues conversions."
   ]
  },
  {
   "cell_type": "code",
   "execution_count": 65,
   "metadata": {},
   "outputs": [
    {
     "name": "stdout",
     "output_type": "stream",
     "text": [
      "\n",
      "La temperatura ingresada es 23.00° Celsius.\n",
      "No has solicitado conversión a otra escala.\n"
     ]
    }
   ],
   "source": [
    "# Pedimos la tempetatura de partida en formato decimal y el código de la escala \n",
    "# a la que corresponde así como la escala a la que el usuario quiere convertirla.\n",
    "\n",
    "\n",
    "def input_temperatura():\n",
    "    while True:\n",
    "        try:\n",
    "            temperatura = float(input(\"Introduce la temperatura: \"))  # Se admite entrada decimal\n",
    "            return temperatura\n",
    "        except ValueError:\n",
    "            print('Entrada no válida. Introduce un número.')\n",
    "\n",
    "def input_escala_origen():\n",
    "    while True:\n",
    "        try:\n",
    "            escala = int(input('¿Número Escala de origen?: Celsius = 1 | Fahrenheit = 2 | Kelvin = 3: '))\n",
    "            if escala in (1, 2, 3):\n",
    "                return escala\n",
    "            else:\n",
    "                print('Escala no válida.')\n",
    "        except ValueError:\n",
    "            print('Entrada no válida. Introduce un número.')\n",
    "\n",
    "def input_escala_destino():\n",
    "    while True:\n",
    "        try:\n",
    "            escala_destino = int(input('¿A qué escala deseas convertir? Celsius = 1 | Fahrenheit = 2 | Kelvin = 3: '))\n",
    "            if escala_destino in (1, 2, 3):\n",
    "                return escala_destino\n",
    "            else:\n",
    "                print('Escala no válida.')\n",
    "        except ValueError:\n",
    "            print('Entrada no válida. Introduce un número.')\n",
    "\n",
    "def convertir_temperatura(temperatura, escala_origen, escala_destino):\n",
    "    if escala_origen == 1:\n",
    "        return temperatura if escala_destino == 1 else (9/5) * temperatura + 32 if escala_destino == 2 else temperatura + 273.15\n",
    "    if escala_origen == 2:\n",
    "        celsius = (5/9) * (temperatura - 32)\n",
    "        return celsius if escala_destino == 1 else (9/5) * celsius + 32 if escala_destino == 2 else celsius + 273.15\n",
    "    if escala_origen == 3:\n",
    "        celsius = temperatura - 273.15\n",
    "        return celsius if escala_destino == 1 else (9/5) * celsius + 32 if escala_destino == 2 else temperatura\n",
    "\n",
    "def main():\n",
    "    nombres_escalas = {1: \"Celsius\", 2: \"Fahrenheit\", 3: \"Kelvin\"}\n",
    "    \n",
    "    temperatura = input_temperatura()\n",
    "    escala_origen = input_escala_origen()\n",
    "    escala_destino = input_escala_destino()\n",
    "    \n",
    "    if escala_origen == escala_destino:\n",
    "        print(f\"\\nLa temperatura ingresada es {temperatura:.2f}° {nombres_escalas[escala_origen]}.\")\n",
    "        print(\"No has solicitado conversión a otra escala.\")\n",
    "    else:\n",
    "        temperatura_convertida = convertir_temperatura(temperatura, escala_origen, escala_destino)\n",
    "        print(f\"\\nLa temperatura ingresada es {temperatura:.2f}° {nombres_escalas[escala_origen]}.\")\n",
    "        print(f\"Equivale a {temperatura_convertida:.2f}° {nombres_escalas[escala_destino]}.\")\n",
    "\n",
    "main()\n",
    "\n"
   ]
  },
  {
   "cell_type": "markdown",
   "metadata": {},
   "source": [
    "EJERCICIO 3:\n",
    "Comptador de paraules d'un text.\n",
    "Escriu una funció que donat un text, mostri les vegades que apareix cada paraula."
   ]
  },
  {
   "cell_type": "markdown",
   "metadata": {},
   "source": [
    "Creo lista de signos para buscar en el bucle for\n",
    "Defino la función para contar palabras:\n",
    "Aplico el método split para convertir la frase una lista de palabras\n",
    "cuento las patlabras de la lista\n"
   ]
  },
  {
   "cell_type": "code",
   "execution_count": 16,
   "metadata": {},
   "outputs": [
    {
     "name": "stdout",
     "output_type": "stream",
     "text": [
      "Tu frase es: \"Mi barba:?¿ tiene-- 3 pelos :!\"\n",
      "La frase tiene 5 palabras.\n"
     ]
    }
   ],
   "source": [
    "# Utilizo re.findall. Importo la librería 're' para buscar palabras completas\n",
    "# y después contarlas.\n",
    "\n",
    "import re\n",
    "\n",
    "def input_frase():\n",
    "    return input(\"Introduce una frase: \")\n",
    "\n",
    "def contar_palabras(frase):\n",
    "    palabras = re.findall(r'\\b\\w+\\b', frase)\n",
    "    return len(palabras)\n",
    "\n",
    "def main():\n",
    "    frase = input_frase()\n",
    "    print(f\"Tu frase es: \\\"{frase}\\\"\")\n",
    "    num_palabras = contar_palabras(frase)\n",
    "    print(f\"Tu frase tiene {num_palabras} palabras.\")\n",
    "\n",
    "main()\n"
   ]
  },
  {
   "cell_type": "markdown",
   "metadata": {},
   "source": [
    "EJERCICIO 4:\n",
    "Diccionari invers.\n",
    "\n",
    "Resulta que el client té una enquesta molt antiga que s'emmagatzema en un diccionari i els resultats els necessita al revés, és a dir, intercanviats les claus i els valors. Els valors i claus en el diccionari original són únics; si aquest no és el cas, la funció hauria d'imprimir un missatge d'advertiment."
   ]
  },
  {
   "cell_type": "markdown",
   "metadata": {},
   "source": [
    "Parto de la base de que ese diccionario con la encuesta ya está creado.\n",
    "Defino la función para verificar duplicados\n",
    "Defino función para invertir diccionarios\n",
    "Ejecuto ambas funciones\n",
    "Muestro los resultados"
   ]
  },
  {
   "cell_type": "code",
   "execution_count": 35,
   "metadata": {},
   "outputs": [
    {
     "name": "stdout",
     "output_type": "stream",
     "text": [
      "Diccionario original: {'color1': 'azul', 'deporte': 'futbol', 'ciudad': 'barcelona', 'Color2': 'verde', 'Color3': 'azul'}\n",
      "Diccionario invertido: {'azul': 'Color3', 'futbol': 'deporte', 'barcelona': 'ciudad', 'verde': 'Color2'}\n",
      "Advertencia: Hay respuestas duplicadas\n"
     ]
    }
   ],
   "source": [
    "# En caso de valores duplicados mostrará el ultimo valor encontrado:\n",
    "\n",
    "encuesta_original = {\"color1\": \"azul\", \"deporte\": \"futbol\", \"ciudad\": \"barcelona\", \"Color2\": \"verde\", \"Color3\": \"azul\"}\n",
    "\n",
    "def verificar_duplicados(encuesta_original):\n",
    "    respuestas_vistas = set()\n",
    "    for respuesta in encuesta_original.values(): \n",
    "        if respuesta in respuestas_vistas:  \n",
    "            print(\"Advertencia: Hay respuestas duplicadas\")\n",
    "        break\n",
    "\n",
    "def invertir_diccionario(encuesta_original):\n",
    "    diccionario_inverso = {}\n",
    "    for pregunta, respuesta in encuesta_original.items():\n",
    "        diccionario_inverso[respuesta] = pregunta\n",
    "\n",
    "def main():\n",
    "    print(\"Diccionario original:\", encuesta_original)\n",
    "    verificar_duplicados(encuesta_original)\n",
    "    diccionario_inverso = invertir_diccionario(encuesta_original)\n",
    "    print('Diccionario invertido:', diccionario_inverso)\n",
    "\n",
    "main()"
   ]
  },
  {
   "cell_type": "markdown",
   "metadata": {},
   "source": [
    "NIVEL 2"
   ]
  },
  {
   "cell_type": "markdown",
   "metadata": {},
   "source": [
    "EJERCICIO 1:\n",
    "Diccionari invers amb duplicats\n",
    "\n",
    "Continuant amb l'exercici 4 del nivell 1: al client es va oblidar de comentar un detall i resulta que els valors en el diccionari original poden duplicar-se i més, per la qual cosa les claus intercanviades poden tenir duplicats. En aquest cas, en l'exercici anterior imprimies un missatge d'advertiment, ara, els valors del diccionari resultant hauran d'emmagatzemar-se com una llista. Tingues en compte que si és un valor únic no ha de ser una llista."
   ]
  },
  {
   "cell_type": "code",
   "execution_count": 55,
   "metadata": {},
   "outputs": [
    {
     "name": "stdout",
     "output_type": "stream",
     "text": [
      "Diccionario original: {'color1': 'azul', 'deporte': 'futbol', 'ciudad': 'barcelona', 'Color2': 'azul'}\n",
      "Advertencia: Hay respuestas duplicadas\n",
      "Diccionario invertido: {'azul': ['color1', 'Color2'], 'futbol': ['deporte'], 'barcelona': ['ciudad']}\n"
     ]
    }
   ],
   "source": [
    "# partiendo del ejercicio anterior, los valores repetidos de la encuesta original encontrarán más de 1 clave.\n",
    "# al invertir el diciconario, la el valor duplicado, que aparecerá como clave única, devolvera varios valores dentro de listas.\n",
    "\n",
    "encuesta_original = { \"color1\": \"azul\", \"deporte\": \"futbol\", \"ciudad\": \"barcelona\", \"Color2\": \"azul\" }\n",
    "\n",
    "def verificar_duplicados(encuesta_original):\n",
    "    respuestas_vistas = set()\n",
    "    for respuesta in encuesta_original.values(): \n",
    "        if respuesta in respuestas_vistas:  \n",
    "            print(\"Advertencia: Hay respuestas duplicadas\")\n",
    "            break\n",
    "        respuestas_vistas.add(respuesta)\n",
    "\n",
    "def invertir_diccionario(encuesta_original):\n",
    "    diccionario_inverso = {}\n",
    "    for pregunta, respuesta in encuesta_original.items():\n",
    "        if respuesta in diccionario_inverso:\n",
    "            diccionario_inverso[respuesta].append(pregunta)\n",
    "        else:\n",
    "            diccionario_inverso[respuesta] = [pregunta]\n",
    "    return diccionario_inverso\n",
    "\n",
    "def main():\n",
    "    print(\"Diccionario original:\", encuesta_original)\n",
    "    verificar_duplicados(encuesta_original)\n",
    "    diccionario_inverso = invertir_diccionario(encuesta_original)\n",
    "    print('Diccionario invertido:', diccionario_inverso)\n",
    "\n",
    "main()"
   ]
  },
  {
   "cell_type": "markdown",
   "metadata": {},
   "source": [
    "Exercici 2\n",
    "Conversió de tipus de dades\n",
    "\n",
    "El client rep una llista de dades i necessita generar dues llistes, la primera on estaran tots els elements que es van poder convertir en flotants i l'altra on estan els elements que no es van poder convertir. Exemple de la llista que rep el client: [ '1.3', 'one' , '1e10' , 'seven', '3-1/2', ('2',1,1.4,'not-a-number'), [1,2,'3','3.4']]\n",
    "Crearé dos listas para ir almacenando los que identifica como convertibles directamente y otra con el resto."
   ]
  },
  {
   "cell_type": "code",
   "execution_count": 54,
   "metadata": {},
   "outputs": [
    {
     "name": "stdout",
     "output_type": "stream",
     "text": [
      "([1.3, 10000000000.0, 2.0, 1.0, 1.4, 1.0, 2.0, 3.0, 3.4], ['one', 'seven', '3-1/2', 'not-a-number'])\n"
     ]
    }
   ],
   "source": [
    "# Primero identifico los tipos de datos distintos que aprecen:\n",
    "# int, float, list, tuple, str para definir en qué bucle incluirlos. Teniendo en cuenta que hay valores\n",
    "# numéricos que al estar entre comillas, serán leídos como un str.\n",
    "# Para los elementos anidados dentro de lista/tupla, utilizamos una llamada recursiva.\n",
    "\n",
    "lista = ['1.3', 'one', '1e10', 'seven', '3-1/2', ('2', 1, 1.4, 'not-a-number'), [1, 2, '3', '3.4']]\n",
    "convertibles = []\n",
    "resto = []\n",
    "\n",
    "def procesar_elemento(elemento):\n",
    "    if isinstance(elemento, str):\n",
    "        try:\n",
    "            convertibles.append(float(elemento))\n",
    "        except ValueError:\n",
    "            resto.append(elemento)\n",
    "    elif isinstance(elemento, (int, float)):\n",
    "        convertibles.append(float(elemento))\n",
    "    elif isinstance(elemento, (list, tuple)):\n",
    "        for sub_elemento in elemento:\n",
    "            procesar_elemento(sub_elemento)\n",
    "    else:\n",
    "        resto.append(elemento)\n",
    "\n",
    "def convertir_decimal(lista):\n",
    "    for elemento in lista:\n",
    "        procesar_elemento(elemento)\n",
    "\n",
    "convertir_decimal(lista)\n",
    "print(([convertibles], resto))"
   ]
  }
 ],
 "metadata": {
  "kernelspec": {
   "display_name": "Python 3",
   "language": "python",
   "name": "python3"
  },
  "language_info": {
   "codemirror_mode": {
    "name": "ipython",
    "version": 3
   },
   "file_extension": ".py",
   "mimetype": "text/x-python",
   "name": "python",
   "nbconvert_exporter": "python",
   "pygments_lexer": "ipython3",
   "version": "3.13.1"
  }
 },
 "nbformat": 4,
 "nbformat_minor": 2
}
